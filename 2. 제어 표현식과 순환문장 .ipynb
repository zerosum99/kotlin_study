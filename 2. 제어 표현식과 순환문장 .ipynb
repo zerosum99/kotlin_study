{
 "cells": [
  {
   "cell_type": "markdown",
   "id": "85fce281",
   "metadata": {},
   "source": [
    "## 제어 표현식 : if"
   ]
  },
  {
   "cell_type": "code",
   "execution_count": null,
   "id": "4c057d55",
   "metadata": {},
   "outputs": [],
   "source": []
  },
  {
   "cell_type": "markdown",
   "id": "0078ae01",
   "metadata": {},
   "source": [
    "## 제어 표현식 : when"
   ]
  },
  {
   "cell_type": "code",
   "execution_count": null,
   "id": "6189e1c3",
   "metadata": {},
   "outputs": [],
   "source": []
  },
  {
   "cell_type": "markdown",
   "id": "ac1ba497",
   "metadata": {},
   "source": [
    "## 순환 문장 : for"
   ]
  },
  {
   "cell_type": "code",
   "execution_count": null,
   "id": "fac0173e",
   "metadata": {},
   "outputs": [],
   "source": []
  },
  {
   "cell_type": "markdown",
   "id": "bf665a84",
   "metadata": {},
   "source": [
    "## 순환문장 : while"
   ]
  },
  {
   "cell_type": "code",
   "execution_count": null,
   "id": "a211858b",
   "metadata": {},
   "outputs": [],
   "source": []
  },
  {
   "cell_type": "markdown",
   "id": "4ce1b6fb",
   "metadata": {},
   "source": [
    "## 순환문장 : do while"
   ]
  },
  {
   "cell_type": "code",
   "execution_count": null,
   "id": "207ff989",
   "metadata": {},
   "outputs": [],
   "source": []
  }
 ],
 "metadata": {
  "kernelspec": {
   "display_name": "Kotlin",
   "language": "kotlin",
   "name": "kotlin"
  },
  "language_info": {
   "codemirror_mode": "text/x-kotlin",
   "file_extension": ".kt",
   "mimetype": "text/x-kotlin",
   "name": "kotlin",
   "nbconvert_exporter": "",
   "pygments_lexer": "kotlin",
   "version": "1.5.30-dev-598"
  }
 },
 "nbformat": 4,
 "nbformat_minor": 5
}
