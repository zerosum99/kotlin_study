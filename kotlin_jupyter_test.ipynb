{
 "cells": [
  {
   "cell_type": "markdown",
   "id": "84901219",
   "metadata": {},
   "source": [
    "## 설치 방식 \n",
    "https://blog.jetbrains.com/kotlin/2020/05/kotlin-kernel-for-jupyter-notebook-v0-8/"
   ]
  },
  {
   "cell_type": "markdown",
   "id": "ae6919d6",
   "metadata": {},
   "source": [
    "## 코틀린 데이터 분석\n",
    "https://github.com/Kotlin/kotlin-jupyter"
   ]
  },
  {
   "cell_type": "code",
   "execution_count": 15,
   "id": "9d955d3c",
   "metadata": {},
   "outputs": [
    {
     "data": {
      "text/html": [
       "   <div id=\"KEycwh\"></div>\n",
       "   <script type=\"text/javascript\" data-lets-plot-script=\"library\">\n",
       "       if(!window.letsPlotCallQueue) {\n",
       "           window.letsPlotCallQueue = [];\n",
       "       }; \n",
       "       window.letsPlotCall = function(f) {\n",
       "           window.letsPlotCallQueue.push(f);\n",
       "       };\n",
       "       (function() {\n",
       "           var script = document.createElement(\"script\");\n",
       "           script.type = \"text/javascript\";\n",
       "           script.src = \"https://cdnjs.cloudflare.com/ajax/libs/lets-plot/2.0.2/lets-plot.min.js\";\n",
       "           script.onload = function() {\n",
       "               window.letsPlotCall = function(f) {f();};\n",
       "               window.letsPlotCallQueue.forEach(function(f) {f();});\n",
       "               window.letsPlotCallQueue = [];\n",
       "               \n",
       "               \n",
       "           };\n",
       "           script.onerror = function(event) {\n",
       "               window.letsPlotCall = function(f) {};\n",
       "               window.letsPlotCallQueue = [];\n",
       "               var div = document.createElement(\"div\");\n",
       "               div.style.color = 'darkred';\n",
       "               div.textContent = 'Error loading Lets-Plot JS';\n",
       "               document.getElementById(\"KEycwh\").appendChild(div);\n",
       "           };\n",
       "           var e = document.getElementById(\"KEycwh\");\n",
       "           e.appendChild(script);\n",
       "       })();\n",
       "   </script>"
      ]
     },
     "metadata": {},
     "output_type": "display_data"
    }
   ],
   "source": [
    "%use dataframe"
   ]
  },
  {
   "cell_type": "code",
   "execution_count": 17,
   "id": "0c33e2a8",
   "metadata": {},
   "outputs": [],
   "source": [
    "val df = DataFrame.read(\"./titanic/train.csv\")"
   ]
  },
  {
   "cell_type": "code",
   "execution_count": 19,
   "id": "60b749d2",
   "metadata": {},
   "outputs": [
    {
     "data": {
      "text/html": [
       "<html><body><table><tr><th style=\"text-align:left\">PassengerId</th><th style=\"text-align:left\">Survived</th><th style=\"text-align:left\">Pclass</th><th style=\"text-align:left\">Name</th><th style=\"text-align:left\">Sex</th><th style=\"text-align:left\">Age</th><th style=\"text-align:left\">SibSp</th><th style=\"text-align:left\">Parch</th><th style=\"text-align:left\">Ticket</th><th style=\"text-align:left\">Fare</th><th style=\"text-align:left\">Cabin</th><th style=\"text-align:left\">Embarked</th></tr><tr><td style=\"text-align:left;\" title=\"1\">1</td><td style=\"text-align:left;\" title=\"0\">0</td><td style=\"text-align:left;\" title=\"3\">3</td><td style=\"text-align:left;\" title=\"Braund, Mr. Owen Harris\">Braund, Mr. Owen Harris</td><td style=\"text-align:left;\" title=\"male\">male</td><td style=\"text-align:left;\" title=\"22.000000\">22.000000</td><td style=\"text-align:left;\" title=\"1\">1</td><td style=\"text-align:left;\" title=\"0\">0</td><td style=\"text-align:left;\" title=\"A/5 21171\">A/5 21171</td><td style=\"text-align:left;\" title=\"7.250000\">7.250000</td><td style=\"text-align:left;\" title=\"null\">null</td><td style=\"text-align:left;\" title=\"S\">S</td></tr><tr><td style=\"text-align:left;\" title=\"2\">2</td><td style=\"text-align:left;\" title=\"1\">1</td><td style=\"text-align:left;\" title=\"1\">1</td><td style=\"text-align:left;\" title=\"Cumings, Mrs. John Bradley (Florence Briggs Thayer)\">Cumings, Mrs. John Bradley (Florence ...</td><td style=\"text-align:left;\" title=\"female\">female</td><td style=\"text-align:left;\" title=\"38.000000\">38.000000</td><td style=\"text-align:left;\" title=\"1\">1</td><td style=\"text-align:left;\" title=\"0\">0</td><td style=\"text-align:left;\" title=\"PC 17599\">PC 17599</td><td style=\"text-align:left;\" title=\"71.283300\">71.283300</td><td style=\"text-align:left;\" title=\"C85\">C85</td><td style=\"text-align:left;\" title=\"C\">C</td></tr><tr><td style=\"text-align:left;\" title=\"3\">3</td><td style=\"text-align:left;\" title=\"1\">1</td><td style=\"text-align:left;\" title=\"3\">3</td><td style=\"text-align:left;\" title=\"Heikkinen, Miss. Laina\">Heikkinen, Miss. Laina</td><td style=\"text-align:left;\" title=\"female\">female</td><td style=\"text-align:left;\" title=\"26.000000\">26.000000</td><td style=\"text-align:left;\" title=\"0\">0</td><td style=\"text-align:left;\" title=\"0\">0</td><td style=\"text-align:left;\" title=\"STON/O2. 3101282\">STON/O2. 3101282</td><td style=\"text-align:left;\" title=\"7.925000\">7.925000</td><td style=\"text-align:left;\" title=\"null\">null</td><td style=\"text-align:left;\" title=\"S\">S</td></tr><tr><td style=\"text-align:left;\" title=\"4\">4</td><td style=\"text-align:left;\" title=\"1\">1</td><td style=\"text-align:left;\" title=\"1\">1</td><td style=\"text-align:left;\" title=\"Futrelle, Mrs. Jacques Heath (Lily May Peel)\">Futrelle, Mrs. Jacques Heath (Lily Ma...</td><td style=\"text-align:left;\" title=\"female\">female</td><td style=\"text-align:left;\" title=\"35.000000\">35.000000</td><td style=\"text-align:left;\" title=\"1\">1</td><td style=\"text-align:left;\" title=\"0\">0</td><td style=\"text-align:left;\" title=\"113803\">113803</td><td style=\"text-align:left;\" title=\"53.100000\">53.100000</td><td style=\"text-align:left;\" title=\"C123\">C123</td><td style=\"text-align:left;\" title=\"S\">S</td></tr><tr><td style=\"text-align:left;\" title=\"5\">5</td><td style=\"text-align:left;\" title=\"0\">0</td><td style=\"text-align:left;\" title=\"3\">3</td><td style=\"text-align:left;\" title=\"Allen, Mr. William Henry\">Allen, Mr. William Henry</td><td style=\"text-align:left;\" title=\"male\">male</td><td style=\"text-align:left;\" title=\"35.000000\">35.000000</td><td style=\"text-align:left;\" title=\"0\">0</td><td style=\"text-align:left;\" title=\"0\">0</td><td style=\"text-align:left;\" title=\"373450\">373450</td><td style=\"text-align:left;\" title=\"8.050000\">8.050000</td><td style=\"text-align:left;\" title=\"null\">null</td><td style=\"text-align:left;\" title=\"S\">S</td></tr></table></body></html>"
      ]
     },
     "execution_count": 19,
     "metadata": {},
     "output_type": "execute_result"
    }
   ],
   "source": [
    "df.head()"
   ]
  },
  {
   "cell_type": "code",
   "execution_count": 24,
   "id": "deb1df38",
   "metadata": {},
   "outputs": [
    {
     "data": {
      "text/html": [
       "<html><body><table><tr><th style=\"text-align:left\">Sex</th><th style=\"text-align:left\">Age</th></tr><tr><td style=\"text-align:left;\" title=\"female\">female</td><td style=\"text-align:left;\" title=\"63.000000\">63.000000</td></tr><tr><td style=\"text-align:left;\" title=\"male\">male</td><td style=\"text-align:left;\" title=\"80.000000\">80.000000</td></tr></table></body></html>"
      ]
     },
     "execution_count": 24,
     "metadata": {},
     "output_type": "execute_result"
    }
   ],
   "source": [
    "df.filter { it[\"Survived\"] as Int > 0 }.groupBy(\"Sex\").max(\"Age\")"
   ]
  },
  {
   "cell_type": "code",
   "execution_count": 28,
   "id": "1236ec45",
   "metadata": {},
   "outputs": [
    {
     "data": {
      "text/plain": [
       "[PassengerId, Survived, Pclass, Name, Sex, Age, SibSp, Parch, Ticket, Fare, Cabin, Embarked]"
      ]
     },
     "execution_count": 28,
     "metadata": {},
     "output_type": "execute_result"
    }
   ],
   "source": [
    "df.columnNames()"
   ]
  },
  {
   "cell_type": "code",
   "execution_count": 30,
   "id": "d8ab5323",
   "metadata": {},
   "outputs": [
    {
     "data": {
      "text/plain": [
       "[Data Frame [891 x 1]\n",
       "\n",
       "|PassengerId:Int |\n",
       "|----------------|\n",
       "|1               |\n",
       "|2               |\n",
       "|3               |\n",
       "|4               |\n",
       "|5               |\n",
       "|6               |\n",
       "|7               |\n",
       "|8               |\n",
       "|9               |\n",
       "|10              |\n",
       "|11              |\n",
       "|12              |\n",
       "|13              |\n",
       "|14              |\n",
       "|15              |\n",
       "|16              |\n",
       "|17              |\n",
       "|18              |\n",
       "|19              |\n",
       "|20              |\n",
       "...\n",
       ", Data Frame [891 x 1]\n",
       "\n",
       "|Survived:Int |\n",
       "|-------------|\n",
       "|0            |\n",
       "|1            |\n",
       "|1            |\n",
       "|1            |\n",
       "|0            |\n",
       "|0            |\n",
       "|0            |\n",
       "|0            |\n",
       "|1            |\n",
       "|1            |\n",
       "|1            |\n",
       "|1            |\n",
       "|0            |\n",
       "|0            |\n",
       "|0            |\n",
       "|1            |\n",
       "|0            |\n",
       "|1            |\n",
       "|0            |\n",
       "|1            |\n",
       "...\n",
       ", Data Frame [891 x 1]\n",
       "\n",
       "|Pclass:Int |\n",
       "|-----------|\n",
       "|3          |\n",
       "|1          |\n",
       "|3          |\n",
       "|1          |\n",
       "|3          |\n",
       "|3          |\n",
       "|1          |\n",
       "|3          |\n",
       "|3          |\n",
       "|2          |\n",
       "|3          |\n",
       "|1          |\n",
       "|3          |\n",
       "|3          |\n",
       "|3          |\n",
       "|2          |\n",
       "|3          |\n",
       "|2          |\n",
       "|3          |\n",
       "|3          |\n",
       "...\n",
       ", Data Frame [891 x 1]\n",
       "\n",
       "|Name:String                              |\n",
       "|-----------------------------------------|\n",
       "|Braund, Mr. Owen Harris                  |\n",
       "|Cumings, Mrs. John Bradley (Florence ... |\n",
       "|Heikkinen, Miss. Laina                   |\n",
       "|Futrelle, Mrs. Jacques Heath (Lily Ma... |\n",
       "|Allen, Mr. William Henry                 |\n",
       "|Moran, Mr. James                         |\n",
       "|McCarthy, Mr. Timothy J                  |\n",
       "|Palsson, Master. Gosta Leonard           |\n",
       "|Johnson, Mrs. Oscar W (Elisabeth Vilh... |\n",
       "|Nasser, Mrs. Nicholas (Adele Achem)      |\n",
       "|Sandstrom, Miss. Marguerite Rut          |\n",
       "|Bonnell, Miss. Elizabeth                 |\n",
       "|Saundercock, Mr. William Henry           |\n",
       "|Andersson, Mr. Anders Johan              |\n",
       "|Vestrom, Miss. Hulda Amanda Adolfina     |\n",
       "|Hewlett, Mrs. (Mary D Kingcome)          |\n",
       "|Rice, Master. Eugene                     |\n",
       "|Williams, Mr. Charles Eugene             |\n",
       "|Vander Planke, Mrs. Julius (Emelia Ma... |\n",
       "|Masselmani, Mrs. Fatima                  |\n",
       "...\n",
       ", Data Frame [891 x 1]\n",
       "\n",
       "|Sex:String |\n",
       "|-----------|\n",
       "|male       |\n",
       "|female     |\n",
       "|female     |\n",
       "|female     |\n",
       "|male       |\n",
       "|male       |\n",
       "|male       |\n",
       "|male       |\n",
       "|female     |\n",
       "|female     |\n",
       "|female     |\n",
       "|female     |\n",
       "|male       |\n",
       "|male       |\n",
       "|female     |\n",
       "|female     |\n",
       "|male       |\n",
       "|male       |\n",
       "|female     |\n",
       "|female     |\n",
       "...\n",
       ", Data Frame [891 x 1]\n",
       "\n",
       "|Age:Double? |\n",
       "|------------|\n",
       "|22.000000   |\n",
       "|38.000000   |\n",
       "|26.000000   |\n",
       "|35.000000   |\n",
       "|35.000000   |\n",
       "|null        |\n",
       "|54.000000   |\n",
       "|2.000000    |\n",
       "|27.000000   |\n",
       "|14.000000   |\n",
       "|4.000000    |\n",
       "|58.000000   |\n",
       "|20.000000   |\n",
       "|39.000000   |\n",
       "|14.000000   |\n",
       "|55.000000   |\n",
       "|2.000000    |\n",
       "|null        |\n",
       "|31.000000   |\n",
       "|null        |\n",
       "...\n",
       ", Data Frame [891 x 1]\n",
       "\n",
       "|SibSp:Int |\n",
       "|----------|\n",
       "|1         |\n",
       "|1         |\n",
       "|0         |\n",
       "|1         |\n",
       "|0         |\n",
       "|0         |\n",
       "|0         |\n",
       "|3         |\n",
       "|0         |\n",
       "|1         |\n",
       "|1         |\n",
       "|0         |\n",
       "|0         |\n",
       "|1         |\n",
       "|0         |\n",
       "|0         |\n",
       "|4         |\n",
       "|0         |\n",
       "|1         |\n",
       "|0         |\n",
       "...\n",
       ", Data Frame [891 x 1]\n",
       "\n",
       "|Parch:Int |\n",
       "|----------|\n",
       "|0         |\n",
       "|0         |\n",
       "|0         |\n",
       "|0         |\n",
       "|0         |\n",
       "|0         |\n",
       "|0         |\n",
       "|1         |\n",
       "|2         |\n",
       "|0         |\n",
       "|1         |\n",
       "|0         |\n",
       "|0         |\n",
       "|5         |\n",
       "|0         |\n",
       "|0         |\n",
       "|1         |\n",
       "|0         |\n",
       "|0         |\n",
       "|0         |\n",
       "...\n",
       ", Data Frame [891 x 1]\n",
       "\n",
       "|Ticket:String    |\n",
       "|-----------------|\n",
       "|A/5 21171        |\n",
       "|PC 17599         |\n",
       "|STON/O2. 3101282 |\n",
       "|113803           |\n",
       "|373450           |\n",
       "|330877           |\n",
       "|17463            |\n",
       "|349909           |\n",
       "|347742           |\n",
       "|237736           |\n",
       "|PP 9549          |\n",
       "|113783           |\n",
       "|A/5. 2151        |\n",
       "|347082           |\n",
       "|350406           |\n",
       "|248706           |\n",
       "|382652           |\n",
       "|244373           |\n",
       "|345763           |\n",
       "|2649             |\n",
       "...\n",
       ", Data Frame [891 x 1]\n",
       "\n",
       "|Fare:Double |\n",
       "|------------|\n",
       "|7.250000    |\n",
       "|71.283300   |\n",
       "|7.925000    |\n",
       "|53.100000   |\n",
       "|8.050000    |\n",
       "|8.458300    |\n",
       "|51.862500   |\n",
       "|21.075000   |\n",
       "|11.133300   |\n",
       "|30.070800   |\n",
       "|16.700000   |\n",
       "|26.550000   |\n",
       "|8.050000    |\n",
       "|31.275000   |\n",
       "|7.854200    |\n",
       "|16.000000   |\n",
       "|29.125000   |\n",
       "|13.000000   |\n",
       "|18.000000   |\n",
       "|7.225000    |\n",
       "...\n",
       ", Data Frame [891 x 1]\n",
       "\n",
       "|Cabin:String? |\n",
       "|--------------|\n",
       "|null          |\n",
       "|C85           |\n",
       "|null          |\n",
       "|C123          |\n",
       "|null          |\n",
       "|null          |\n",
       "|E46           |\n",
       "|null          |\n",
       "|null          |\n",
       "|null          |\n",
       "|G6            |\n",
       "|C103          |\n",
       "|null          |\n",
       "|null          |\n",
       "|null          |\n",
       "|null          |\n",
       "|null          |\n",
       "|null          |\n",
       "|null          |\n",
       "|null          |\n",
       "...\n",
       ", Data Frame [891 x 1]\n",
       "\n",
       "|Embarked:String? |\n",
       "|-----------------|\n",
       "|S                |\n",
       "|C                |\n",
       "|S                |\n",
       "|S                |\n",
       "|S                |\n",
       "|Q                |\n",
       "|S                |\n",
       "|S                |\n",
       "|S                |\n",
       "|C                |\n",
       "|S                |\n",
       "|S                |\n",
       "|S                |\n",
       "|S                |\n",
       "|S                |\n",
       "|S                |\n",
       "|Q                |\n",
       "|S                |\n",
       "|S                |\n",
       "|C                |\n",
       "...\n",
       "]"
      ]
     },
     "execution_count": 30,
     "metadata": {},
     "output_type": "execute_result"
    }
   ],
   "source": []
  },
  {
   "cell_type": "code",
   "execution_count": 1,
   "id": "7215e921",
   "metadata": {},
   "outputs": [
    {
     "name": "stdout",
     "output_type": "stream",
     "text": [
      "hello kotlin\n"
     ]
    }
   ],
   "source": [
    "println(\"hello kotlin\")"
   ]
  },
  {
   "cell_type": "code",
   "execution_count": 2,
   "id": "6f613a78",
   "metadata": {},
   "outputs": [],
   "source": [
    "class A"
   ]
  },
  {
   "cell_type": "code",
   "execution_count": 3,
   "id": "224d3a08",
   "metadata": {},
   "outputs": [],
   "source": [
    "val a = A()"
   ]
  },
  {
   "cell_type": "code",
   "execution_count": 4,
   "id": "3465e985",
   "metadata": {},
   "outputs": [
    {
     "data": {
      "text/plain": [
       "Line_40$A@71c27ee8"
      ]
     },
     "execution_count": 4,
     "metadata": {},
     "output_type": "execute_result"
    }
   ],
   "source": [
    "a"
   ]
  },
  {
   "cell_type": "code",
   "execution_count": 5,
   "id": "7c775578",
   "metadata": {},
   "outputs": [],
   "source": [
    "fun main() {\n",
    "    println(\"Hello kotlin\")\n",
    "}"
   ]
  },
  {
   "cell_type": "code",
   "execution_count": 6,
   "id": "e6394fb8",
   "metadata": {},
   "outputs": [
    {
     "name": "stdout",
     "output_type": "stream",
     "text": [
      "Hello kotlin\n"
     ]
    }
   ],
   "source": [
    "main()"
   ]
  },
  {
   "cell_type": "code",
   "execution_count": 7,
   "id": "dba8fcec",
   "metadata": {},
   "outputs": [],
   "source": [
    "object Hello {\n",
    "    fun say() {\n",
    "        println(\"Hello World\")\n",
    "    }\n",
    "}"
   ]
  },
  {
   "cell_type": "code",
   "execution_count": 8,
   "id": "fd52af7e",
   "metadata": {},
   "outputs": [
    {
     "name": "stdout",
     "output_type": "stream",
     "text": [
      "Hello World\n"
     ]
    }
   ],
   "source": [
    "Hello.say()"
   ]
  },
  {
   "cell_type": "code",
   "execution_count": 11,
   "id": "efd1ba85",
   "metadata": {},
   "outputs": [],
   "source": [
    "interface A {\n",
    "    fun method() : String\n",
    "}\n",
    "\n",
    "interface B {\n",
    "    fun method1() : String\n",
    "    fun method2() : String\n",
    "}\n",
    "\n",
    "interface D {\n",
    "    fun method() : String\n",
    "    fun method1() : String\n",
    "    fun method2() : String\n",
    "}\n",
    "\n",
    "class C : A, B, D {\n",
    "    override fun method(): String {\n",
    "        return \"call A method\"\n",
    "    }\n",
    "    override fun method1(): String {\n",
    "        return \"call B method1\"\n",
    "    }\n",
    "    override fun method2(): String {\n",
    "        return \"call B method2\"\n",
    "    }\n",
    "\n",
    "}\n",
    "\n",
    "fun main() {\n",
    "    val c:A = C()\n",
    "    println(c.method())\n",
    "    /* Kotlin: Unresolved reference: method1\n",
    "    println(c.method1())\n",
    "    */\n",
    "\n",
    "    val cb : B = C()\n",
    "    println(cb.method1())\n",
    "    println(cb.method2())\n",
    "    /* Kotlin: Unresolved reference: method\n",
    "    println(cb.method())\n",
    "     */\n",
    "\n",
    "    val cd : D = C()\n",
    "    println(cd.method())\n",
    "    println(cd.method1())\n",
    "    println(cd.method2())\n",
    "}"
   ]
  },
  {
   "cell_type": "code",
   "execution_count": 12,
   "id": "71ac1c39",
   "metadata": {},
   "outputs": [
    {
     "name": "stdout",
     "output_type": "stream",
     "text": [
      "call A method\n",
      "call B method1\n",
      "call B method2\n",
      "call A method\n",
      "call B method1\n",
      "call B method2\n"
     ]
    }
   ],
   "source": [
    "main()"
   ]
  },
  {
   "cell_type": "code",
   "execution_count": null,
   "id": "218700da",
   "metadata": {},
   "outputs": [],
   "source": []
  }
 ],
 "metadata": {
  "kernelspec": {
   "display_name": "Kotlin",
   "language": "kotlin",
   "name": "kotlin"
  },
  "language_info": {
   "codemirror_mode": "text/x-kotlin",
   "file_extension": ".kt",
   "mimetype": "text/x-kotlin",
   "name": "kotlin",
   "nbconvert_exporter": "",
   "pygments_lexer": "kotlin",
   "version": "1.5.30-dev-598"
  }
 },
 "nbformat": 4,
 "nbformat_minor": 5
}
