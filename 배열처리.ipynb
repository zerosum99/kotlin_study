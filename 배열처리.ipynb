{
 "cells": [
  {
   "cell_type": "code",
   "execution_count": 1,
   "id": "686b35b5",
   "metadata": {},
   "outputs": [],
   "source": [
    "val a = kotlin.arrayOf(1,2,3,4)"
   ]
  },
  {
   "cell_type": "code",
   "execution_count": 2,
   "id": "03cf5f25",
   "metadata": {},
   "outputs": [
    {
     "data": {
      "text/plain": [
       "[Ljava.lang.Integer;@4f0100a7"
      ]
     },
     "execution_count": 2,
     "metadata": {},
     "output_type": "execute_result"
    }
   ],
   "source": [
    "a"
   ]
  },
  {
   "cell_type": "code",
   "execution_count": 3,
   "id": "c9139e45",
   "metadata": {},
   "outputs": [
    {
     "data": {
      "text/plain": [
       "class [Ljava.lang.Integer;"
      ]
     },
     "execution_count": 3,
     "metadata": {},
     "output_type": "execute_result"
    }
   ],
   "source": [
    "a.javaClass"
   ]
  },
  {
   "cell_type": "code",
   "execution_count": 4,
   "id": "0034e6c1",
   "metadata": {},
   "outputs": [
    {
     "name": "stdout",
     "output_type": "stream",
     "text": [
      "5\n",
      "6\n",
      "7\n",
      "8\n"
     ]
    }
   ],
   "source": [
    "a.forEach { println(it +4) }"
   ]
  },
  {
   "cell_type": "code",
   "execution_count": 5,
   "id": "f7ab4dfd",
   "metadata": {},
   "outputs": [
    {
     "name": "stdout",
     "output_type": "stream",
     "text": [
      "1\n",
      "2\n",
      "3\n",
      "4\n"
     ]
    }
   ],
   "source": [
    "for (i in a ) { println(i)}"
   ]
  },
  {
   "cell_type": "code",
   "execution_count": 6,
   "id": "cef42b7a",
   "metadata": {},
   "outputs": [],
   "source": [
    "val l = listOf(1,2,3,4)"
   ]
  },
  {
   "cell_type": "code",
   "execution_count": 7,
   "id": "d34f87b6",
   "metadata": {},
   "outputs": [
    {
     "data": {
      "text/plain": [
       "class java.util.Arrays$ArrayList"
      ]
     },
     "execution_count": 7,
     "metadata": {},
     "output_type": "execute_result"
    }
   ],
   "source": [
    "l.javaClass"
   ]
  },
  {
   "cell_type": "code",
   "execution_count": 8,
   "id": "a01bf88e",
   "metadata": {},
   "outputs": [
    {
     "name": "stdout",
     "output_type": "stream",
     "text": [
      "5\n",
      "6\n",
      "7\n",
      "8\n"
     ]
    }
   ],
   "source": [
    "l.forEach {println(it + 4)}"
   ]
  },
  {
   "cell_type": "code",
   "execution_count": 9,
   "id": "66b7208b",
   "metadata": {},
   "outputs": [],
   "source": [
    "val ls = listOf(\"가을이\", \"겨울이\",\"여름이\", \"봄이\") "
   ]
  },
  {
   "cell_type": "code",
   "execution_count": 10,
   "id": "8fe6ff1f",
   "metadata": {},
   "outputs": [
    {
     "name": "stdout",
     "output_type": "stream",
     "text": [
      "가을이\n",
      "겨울이\n",
      "여름이\n",
      "봄이\n"
     ]
    }
   ],
   "source": [
    "for (i in ls.indices) {\n",
    "    println(ls.get(i))\n",
    "}"
   ]
  },
  {
   "cell_type": "code",
   "execution_count": 11,
   "id": "058e970b",
   "metadata": {},
   "outputs": [
    {
     "name": "stdout",
     "output_type": "stream",
     "text": [
      "0 가을이\n",
      "1 겨울이\n",
      "2 여름이\n",
      "3 봄이\n"
     ]
    }
   ],
   "source": [
    "for ((index, name) in ls.withIndex()) {\n",
    "    println(\"$index $name\")\n",
    "}"
   ]
  },
  {
   "cell_type": "code",
   "execution_count": null,
   "id": "415ef705",
   "metadata": {},
   "outputs": [],
   "source": []
  }
 ],
 "metadata": {
  "kernelspec": {
   "display_name": "Kotlin",
   "language": "kotlin",
   "name": "kotlin"
  },
  "language_info": {
   "codemirror_mode": "text/x-kotlin",
   "file_extension": ".kt",
   "mimetype": "text/x-kotlin",
   "name": "kotlin",
   "nbconvert_exporter": "",
   "pygments_lexer": "kotlin",
   "version": "1.5.30-dev-598"
  }
 },
 "nbformat": 4,
 "nbformat_minor": 5
}
